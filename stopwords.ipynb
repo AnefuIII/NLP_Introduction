{
 "cells": [
  {
   "cell_type": "markdown",
   "id": "3011006d",
   "metadata": {},
   "source": [
    "## Plato's Allegory of the cave \n",
    " source : https://www.philoschools.com/socratic-philosophy/plato/the-allegory-of-the-cave"
   ]
  },
  {
   "cell_type": "code",
   "execution_count": 1,
   "id": "73cec69d",
   "metadata": {},
   "outputs": [],
   "source": [
    "paragraph = \"\"\"The Allegory of the Cave is a well-known allegory used by the ancient Greek philosopher Plato in his book \"The Republic.\" It is a story about a group of people who have lived their entire lives chained up in a cave, facing a wall. They cannot turn their heads, so they can only see the shadows of objects projected onto the wall by a fire behind them. They believe that these shadows are reality and have no knowledge of the outside world.\n",
    "\n",
    "One day, one of the prisoners is freed and is forced to turn around and face the fire, and eventually, he is brought outside the cave and exposed to the sun and the real world. He sees the true nature of reality and realizes that what he had previously believed to be reality was merely an illusion. When he returns to the cave to share his newfound knowledge with the others, they do not believe him and think he has gone mad.\n",
    "\n",
    "The allegory is often interpreted as a metaphor for the journey of the philosopher seeking knowledge and enlightenment. The cave represents the physical world, the shadows represent the world of appearances, and the real world outside the cave represents the world of Forms, which are ideal and eternal concepts that are beyond the physical world.\n",
    "\n",
    "The allegory also highlights the importance of critical thinking and intellectual independence, and the role of the philosopher in seeking truth and promoting intellectual inquiry. It also has significant ethical and political implications, particularly in terms of the relationship between knowledge and power, the role of education and knowledge in creating a just society, and the responsibilities of those in positions of power to seek truth and promote enlightenment.\"\"\""
   ]
  },
  {
   "cell_type": "code",
   "execution_count": 8,
   "id": "e61ae588",
   "metadata": {},
   "outputs": [],
   "source": [
    "import nltk\n",
    "from nltk.stem import PorterStemmer\n",
    "from nltk.corpus import stopwords"
   ]
  },
  {
   "cell_type": "code",
   "execution_count": 5,
   "id": "c74e082b",
   "metadata": {},
   "outputs": [
    {
     "data": {
      "text/plain": [
       "['i',\n",
       " 'me',\n",
       " 'my',\n",
       " 'myself',\n",
       " 'we',\n",
       " 'our',\n",
       " 'ours',\n",
       " 'ourselves',\n",
       " 'you',\n",
       " \"you're\",\n",
       " \"you've\",\n",
       " \"you'll\",\n",
       " \"you'd\",\n",
       " 'your',\n",
       " 'yours',\n",
       " 'yourself',\n",
       " 'yourselves',\n",
       " 'he',\n",
       " 'him',\n",
       " 'his',\n",
       " 'himself',\n",
       " 'she',\n",
       " \"she's\",\n",
       " 'her',\n",
       " 'hers',\n",
       " 'herself',\n",
       " 'it',\n",
       " \"it's\",\n",
       " 'its',\n",
       " 'itself',\n",
       " 'they',\n",
       " 'them',\n",
       " 'their',\n",
       " 'theirs',\n",
       " 'themselves',\n",
       " 'what',\n",
       " 'which',\n",
       " 'who',\n",
       " 'whom',\n",
       " 'this',\n",
       " 'that',\n",
       " \"that'll\",\n",
       " 'these',\n",
       " 'those',\n",
       " 'am',\n",
       " 'is',\n",
       " 'are',\n",
       " 'was',\n",
       " 'were',\n",
       " 'be',\n",
       " 'been',\n",
       " 'being',\n",
       " 'have',\n",
       " 'has',\n",
       " 'had',\n",
       " 'having',\n",
       " 'do',\n",
       " 'does',\n",
       " 'did',\n",
       " 'doing',\n",
       " 'a',\n",
       " 'an',\n",
       " 'the',\n",
       " 'and',\n",
       " 'but',\n",
       " 'if',\n",
       " 'or',\n",
       " 'because',\n",
       " 'as',\n",
       " 'until',\n",
       " 'while',\n",
       " 'of',\n",
       " 'at',\n",
       " 'by',\n",
       " 'for',\n",
       " 'with',\n",
       " 'about',\n",
       " 'against',\n",
       " 'between',\n",
       " 'into',\n",
       " 'through',\n",
       " 'during',\n",
       " 'before',\n",
       " 'after',\n",
       " 'above',\n",
       " 'below',\n",
       " 'to',\n",
       " 'from',\n",
       " 'up',\n",
       " 'down',\n",
       " 'in',\n",
       " 'out',\n",
       " 'on',\n",
       " 'off',\n",
       " 'over',\n",
       " 'under',\n",
       " 'again',\n",
       " 'further',\n",
       " 'then',\n",
       " 'once',\n",
       " 'here',\n",
       " 'there',\n",
       " 'when',\n",
       " 'where',\n",
       " 'why',\n",
       " 'how',\n",
       " 'all',\n",
       " 'any',\n",
       " 'both',\n",
       " 'each',\n",
       " 'few',\n",
       " 'more',\n",
       " 'most',\n",
       " 'other',\n",
       " 'some',\n",
       " 'such',\n",
       " 'no',\n",
       " 'nor',\n",
       " 'not',\n",
       " 'only',\n",
       " 'own',\n",
       " 'same',\n",
       " 'so',\n",
       " 'than',\n",
       " 'too',\n",
       " 'very',\n",
       " 's',\n",
       " 't',\n",
       " 'can',\n",
       " 'will',\n",
       " 'just',\n",
       " 'don',\n",
       " \"don't\",\n",
       " 'should',\n",
       " \"should've\",\n",
       " 'now',\n",
       " 'd',\n",
       " 'll',\n",
       " 'm',\n",
       " 'o',\n",
       " 're',\n",
       " 've',\n",
       " 'y',\n",
       " 'ain',\n",
       " 'aren',\n",
       " \"aren't\",\n",
       " 'couldn',\n",
       " \"couldn't\",\n",
       " 'didn',\n",
       " \"didn't\",\n",
       " 'doesn',\n",
       " \"doesn't\",\n",
       " 'hadn',\n",
       " \"hadn't\",\n",
       " 'hasn',\n",
       " \"hasn't\",\n",
       " 'haven',\n",
       " \"haven't\",\n",
       " 'isn',\n",
       " \"isn't\",\n",
       " 'ma',\n",
       " 'mightn',\n",
       " \"mightn't\",\n",
       " 'mustn',\n",
       " \"mustn't\",\n",
       " 'needn',\n",
       " \"needn't\",\n",
       " 'shan',\n",
       " \"shan't\",\n",
       " 'shouldn',\n",
       " \"shouldn't\",\n",
       " 'wasn',\n",
       " \"wasn't\",\n",
       " 'weren',\n",
       " \"weren't\",\n",
       " 'won',\n",
       " \"won't\",\n",
       " 'wouldn',\n",
       " \"wouldn't\"]"
      ]
     },
     "execution_count": 5,
     "metadata": {},
     "output_type": "execute_result"
    }
   ],
   "source": [
    "# stop words of a language\n",
    "\n",
    "stopwords.words('english')"
   ]
  },
  {
   "cell_type": "code",
   "execution_count": 6,
   "id": "9a645328",
   "metadata": {},
   "outputs": [],
   "source": [
    "stemmer = PorterStemmer()"
   ]
  },
  {
   "cell_type": "code",
   "execution_count": 9,
   "id": "706011e0",
   "metadata": {},
   "outputs": [
    {
     "data": {
      "text/plain": [
       "['The Allegory of the Cave is a well-known allegory used by the ancient Greek philosopher Plato in his book \"The Republic.\"',\n",
       " 'It is a story about a group of people who have lived their entire lives chained up in a cave, facing a wall.',\n",
       " 'They cannot turn their heads, so they can only see the shadows of objects projected onto the wall by a fire behind them.',\n",
       " 'They believe that these shadows are reality and have no knowledge of the outside world.',\n",
       " 'One day, one of the prisoners is freed and is forced to turn around and face the fire, and eventually, he is brought outside the cave and exposed to the sun and the real world.',\n",
       " 'He sees the true nature of reality and realizes that what he had previously believed to be reality was merely an illusion.',\n",
       " 'When he returns to the cave to share his newfound knowledge with the others, they do not believe him and think he has gone mad.',\n",
       " 'The allegory is often interpreted as a metaphor for the journey of the philosopher seeking knowledge and enlightenment.',\n",
       " 'The cave represents the physical world, the shadows represent the world of appearances, and the real world outside the cave represents the world of Forms, which are ideal and eternal concepts that are beyond the physical world.',\n",
       " 'The allegory also highlights the importance of critical thinking and intellectual independence, and the role of the philosopher in seeking truth and promoting intellectual inquiry.',\n",
       " 'It also has significant ethical and political implications, particularly in terms of the relationship between knowledge and power, the role of education and knowledge in creating a just society, and the responsibilities of those in positions of power to seek truth and promote enlightenment.']"
      ]
     },
     "execution_count": 9,
     "metadata": {},
     "output_type": "execute_result"
    }
   ],
   "source": [
    "nltk.sent_tokenize(paragraph)"
   ]
  },
  {
   "cell_type": "code",
   "execution_count": 10,
   "id": "a170f888",
   "metadata": {},
   "outputs": [],
   "source": [
    "sentences = nltk.sent_tokenize(paragraph)"
   ]
  },
  {
   "cell_type": "code",
   "execution_count": 11,
   "id": "c1787908",
   "metadata": {},
   "outputs": [
    {
     "data": {
      "text/plain": [
       "list"
      ]
     },
     "execution_count": 11,
     "metadata": {},
     "output_type": "execute_result"
    }
   ],
   "source": [
    "type(sentences)"
   ]
  },
  {
   "cell_type": "markdown",
   "id": "f11c6843",
   "metadata": {},
   "source": [
    "#### Apply stowords, filter and stemming"
   ]
  },
  {
   "cell_type": "code",
   "execution_count": 13,
   "id": "23fc7c1e",
   "metadata": {},
   "outputs": [],
   "source": [
    "for i in range(len(sentences)):\n",
    "    \n",
    "    #word tokenize each sentence\n",
    "    words = nltk.word_tokenize(sentences[i])\n",
    "    \n",
    "    #Apply Stemming to the words that are not part of stopwords\n",
    "    words = [stemmer.stem(word) for word in words if word not in set(stopwords.words('english'))]\n",
    "    \n",
    "    #convert all the list of words into sentences\n",
    "    sentences[i] = ' '.join(words)"
   ]
  },
  {
   "cell_type": "code",
   "execution_count": 14,
   "id": "25ebe647",
   "metadata": {},
   "outputs": [
    {
     "data": {
      "text/plain": [
       "[\"the allegori cave well-known allegori use ancient greek philosoph plato book `` the republ . ''\",\n",
       " 'it stori group peopl live entir live chain cave , face wall .',\n",
       " 'they turn head , see shadow object project onto wall fire behind .',\n",
       " 'they believ shadow realiti knowledg outsid world .',\n",
       " 'one day , one prison freed forc turn around face fire , eventu , brought outsid cave expos sun real world .',\n",
       " 'he see true natur realiti realiz previous believ realiti mere illus .',\n",
       " 'when return cave share newfound knowledg other , believ think gone mad .',\n",
       " 'the allegori often interpret metaphor journey philosoph seek knowledg enlighten .',\n",
       " 'the cave repres physic world , shadow repres world appear , real world outsid cave repres world form , ideal etern concept beyond physic world .',\n",
       " 'the allegori also highlight import critic think intellectu independ , role philosoph seek truth promot intellectu inquiri .',\n",
       " 'it also signific ethic polit implic , particularli term relationship knowledg power , role educ knowledg creat societi , respons posit power seek truth promot enlighten .']"
      ]
     },
     "execution_count": 14,
     "metadata": {},
     "output_type": "execute_result"
    }
   ],
   "source": [
    "sentences"
   ]
  },
  {
   "cell_type": "code",
   "execution_count": 17,
   "id": "d6b39433",
   "metadata": {},
   "outputs": [],
   "source": [
    "from nltk.stem import SnowballStemmer\n",
    "\n",
    "Snowballstemmer = SnowballStemmer('english')"
   ]
  },
  {
   "cell_type": "code",
   "execution_count": 18,
   "id": "39b1c1b8",
   "metadata": {},
   "outputs": [],
   "source": [
    "for i in range(len(sentences)):\n",
    "    \n",
    "    #word tokenize each sentence\n",
    "    words = nltk.word_tokenize(sentences[i])\n",
    "    \n",
    "    #Apply Stemming to the words that are not part of stopwords\n",
    "    words = [Snowballstemmer.stem(word) for word in words if word not in set(stopwords.words('english'))]\n",
    "    \n",
    "    #convert all the list of words into sentences\n",
    "    sentences[i] = ' '.join(words)"
   ]
  },
  {
   "cell_type": "code",
   "execution_count": 19,
   "id": "22ffe08d",
   "metadata": {},
   "outputs": [
    {
     "data": {
      "text/plain": [
       "['allegori cave well-known allegori use ancient greek philosoph plato book `` republ . ``',\n",
       " 'stori group peopl live entir live chain cave , face wall .',\n",
       " 'turn head , see shadow object project onto wall fire behind .',\n",
       " 'believ shadow realiti knowledg outsid world .',\n",
       " 'one day , one prison freed forc turn around face fire , eventu , brought outsid cave expo sun real world .',\n",
       " 'see true natur realiti realiz previous believ realiti mere illus .',\n",
       " 'return cave share newfound knowledg , believ think gone mad .',\n",
       " 'allegori often interpret metaphor journey philosoph seek knowledg enlighten .',\n",
       " 'cave repr physic world , shadow repr world appear , real world outsid cave repr world form , ideal etern concept beyond physic world .',\n",
       " 'allegori also highlight import critic think intellectu independ , role philosoph seek truth promot intellectu inquiri .',\n",
       " 'also signif ethic polit implic , particular term relationship knowledg power , role educ knowledg creat societi , respon posit power seek truth promot enlighten .']"
      ]
     },
     "execution_count": 19,
     "metadata": {},
     "output_type": "execute_result"
    }
   ],
   "source": [
    "sentences"
   ]
  },
  {
   "cell_type": "code",
   "execution_count": 20,
   "id": "93c6a03b",
   "metadata": {},
   "outputs": [],
   "source": [
    "from nltk.stem import WordNetLemmatizer\n",
    "\n",
    "lemmatizer = WordNetLemmatizer()"
   ]
  },
  {
   "cell_type": "code",
   "execution_count": 31,
   "id": "ffe4c560",
   "metadata": {},
   "outputs": [],
   "source": [
    "for i in range(len(sentences)):\n",
    "    \n",
    "    #word tokenize each sentence\n",
    "    words = nltk.word_tokenize(sentences[i])\n",
    "    \n",
    "    #Apply Stemming to the words that are not part of stopwords\n",
    "    words = [lemmatizer.lemmatize(word.lower(), 'v') for word in words if word not in set(stopwords.words('english'))]\n",
    "    \n",
    "    #convert all the list of words into sentences\n",
    "    sentences[i] = ' '.join(words)"
   ]
  },
  {
   "cell_type": "code",
   "execution_count": 32,
   "id": "bae667d2",
   "metadata": {},
   "outputs": [
    {
     "data": {
      "text/plain": [
       "['allegori cave well-known allegori use ancient greek philosoph plato book `` republ . ``',\n",
       " 'stori group peopl live entir live chain cave , face wall .',\n",
       " 'turn head , see shadow object project onto wall fire behind .',\n",
       " 'believ shadow realiti knowledg outsid world .',\n",
       " 'one day , one prison free forc turn around face fire , eventu , bring outsid cave expo sun real world .',\n",
       " 'see true natur realiti realiz previous believ realiti mere illus .',\n",
       " 'return cave share newfound knowledg , believ think go mad .',\n",
       " 'allegori often interpret metaphor journey philosoph seek knowledg enlighten .',\n",
       " 'cave repr physic world , shadow repr world appear , real world outsid cave repr world form , ideal etern concept beyond physic world .',\n",
       " 'allegori also highlight import critic think intellectu independ , role philosoph seek truth promot intellectu inquiri .',\n",
       " 'also signif ethic polit implic , particular term relationship knowledg power , role educ knowledg creat societi , respon posit power seek truth promot enlighten .']"
      ]
     },
     "execution_count": 32,
     "metadata": {},
     "output_type": "execute_result"
    }
   ],
   "source": [
    "sentences"
   ]
  },
  {
   "cell_type": "code",
   "execution_count": null,
   "id": "ed28b22f",
   "metadata": {},
   "outputs": [],
   "source": []
  }
 ],
 "metadata": {
  "kernelspec": {
   "display_name": "Python 3 (ipykernel)",
   "language": "python",
   "name": "python3"
  },
  "language_info": {
   "codemirror_mode": {
    "name": "ipython",
    "version": 3
   },
   "file_extension": ".py",
   "mimetype": "text/x-python",
   "name": "python",
   "nbconvert_exporter": "python",
   "pygments_lexer": "ipython3",
   "version": "3.9.18"
  }
 },
 "nbformat": 4,
 "nbformat_minor": 5
}
