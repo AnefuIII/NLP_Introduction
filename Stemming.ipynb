{
 "cells": [
  {
   "cell_type": "markdown",
   "id": "c25164ad",
   "metadata": {},
   "source": [
    "## Stemming\n",
    "is a way to reduce a word into its root word known as Lemma. E.g writing reduced to write, eating reduced to eat \n",
    "\n",
    "* Porterstemmer is ideal for classification problems\n",
    "* positive or negative review comments of products\n",
    "* email spam or ham\n",
    "\n",
    "Stemming cannot be used for chatbots due to its potential to change the meaning of a word e.g 'goes' is stemmed to 'goe'. Hence the use of lemmatization"
   ]
  },
  {
   "cell_type": "markdown",
   "id": "58fcf348",
   "metadata": {},
   "source": [
    "### Portestemmer\n",
    "\n",
    "The disadvantage of stemming can be seen in History being histor(i) which can change the entire meaning of a word\n"
   ]
  },
  {
   "cell_type": "code",
   "execution_count": 19,
   "id": "96a997f7",
   "metadata": {},
   "outputs": [],
   "source": [
    "words = ['eat', 'eating', 'eaten', 'write', 'written', 'writing', 'programming', 'programs', 'history', 'finalize', 'finally']"
   ]
  },
  {
   "cell_type": "code",
   "execution_count": 20,
   "id": "926def28",
   "metadata": {},
   "outputs": [],
   "source": [
    "from nltk.stem import PorterStemmer"
   ]
  },
  {
   "cell_type": "code",
   "execution_count": 21,
   "id": "1673586f",
   "metadata": {},
   "outputs": [],
   "source": [
    "stemming = PorterStemmer()"
   ]
  },
  {
   "cell_type": "code",
   "execution_count": 22,
   "id": "8074a872",
   "metadata": {},
   "outputs": [
    {
     "name": "stdout",
     "output_type": "stream",
     "text": [
      "eat---->eat\n",
      "eating---->eat\n",
      "eaten---->eaten\n",
      "write---->write\n",
      "written---->written\n",
      "writing---->write\n",
      "programming---->program\n",
      "programs---->program\n",
      "history---->histori\n",
      "finalize---->final\n",
      "finally---->final\n"
     ]
    }
   ],
   "source": [
    "for word in words:\n",
    "    print(word+'---->'+stemming.stem(word))"
   ]
  },
  {
   "cell_type": "code",
   "execution_count": 6,
   "id": "538d9ffc",
   "metadata": {},
   "outputs": [
    {
     "data": {
      "text/plain": [
       "'congratul'"
      ]
     },
     "execution_count": 6,
     "metadata": {},
     "output_type": "execute_result"
    }
   ],
   "source": [
    "stemming.stem('congratulations')"
   ]
  },
  {
   "cell_type": "markdown",
   "id": "7a39eef0",
   "metadata": {},
   "source": [
    "### RegexpStemmer"
   ]
  },
  {
   "cell_type": "markdown",
   "id": "f526126f",
   "metadata": {},
   "source": [
    "it basically takes a single regular expression and removes any affix that matches it"
   ]
  },
  {
   "cell_type": "code",
   "execution_count": 7,
   "id": "d25a4f7d",
   "metadata": {},
   "outputs": [],
   "source": [
    "from nltk.stem import RegexpStemmer"
   ]
  },
  {
   "cell_type": "code",
   "execution_count": 8,
   "id": "b1cf102c",
   "metadata": {},
   "outputs": [],
   "source": [
    "regex = RegexpStemmer('ing$|s$|es$|able$', min = 4)"
   ]
  },
  {
   "cell_type": "code",
   "execution_count": 9,
   "id": "47646fa6",
   "metadata": {},
   "outputs": [
    {
     "data": {
      "text/plain": [
       "'eat'"
      ]
     },
     "execution_count": 9,
     "metadata": {},
     "output_type": "execute_result"
    }
   ],
   "source": [
    "regex.stem('eating')"
   ]
  },
  {
   "cell_type": "code",
   "execution_count": 10,
   "id": "e149c2cf",
   "metadata": {},
   "outputs": [
    {
     "data": {
      "text/plain": [
       "'undo'"
      ]
     },
     "execution_count": 10,
     "metadata": {},
     "output_type": "execute_result"
    }
   ],
   "source": [
    "regex.stem('undoable')"
   ]
  },
  {
   "cell_type": "code",
   "execution_count": 11,
   "id": "c0bd493a",
   "metadata": {},
   "outputs": [
    {
     "data": {
      "text/plain": [
       "\"oche'\""
      ]
     },
     "execution_count": 11,
     "metadata": {},
     "output_type": "execute_result"
    }
   ],
   "source": [
    "regex.stem(\"oche's\")"
   ]
  },
  {
   "cell_type": "markdown",
   "id": "146ba349",
   "metadata": {},
   "source": [
    "### Snowball Stemmer\n",
    "\n",
    "Performs better than porterstemmer in some words"
   ]
  },
  {
   "cell_type": "code",
   "execution_count": 12,
   "id": "6b8e5fe1",
   "metadata": {},
   "outputs": [],
   "source": [
    "from nltk.stem import SnowballStemmer"
   ]
  },
  {
   "cell_type": "code",
   "execution_count": 13,
   "id": "160e93a2",
   "metadata": {},
   "outputs": [],
   "source": [
    "snowballstemmer = SnowballStemmer('english')"
   ]
  },
  {
   "cell_type": "code",
   "execution_count": 14,
   "id": "48e637ef",
   "metadata": {},
   "outputs": [
    {
     "data": {
      "text/plain": [
       "('fair', 'sport')"
      ]
     },
     "execution_count": 14,
     "metadata": {},
     "output_type": "execute_result"
    }
   ],
   "source": [
    "snowballstemmer.stem('fairly'), snowballstemmer.stem('sportingly')"
   ]
  },
  {
   "cell_type": "code",
   "execution_count": 15,
   "id": "f9f7dd76",
   "metadata": {},
   "outputs": [
    {
     "data": {
      "text/plain": [
       "('fairli', 'sportingli')"
      ]
     },
     "execution_count": 15,
     "metadata": {},
     "output_type": "execute_result"
    }
   ],
   "source": [
    "stemming.stem('fairly'), stemming.stem('sportingly')"
   ]
  },
  {
   "cell_type": "code",
   "execution_count": 23,
   "id": "024f9aac",
   "metadata": {},
   "outputs": [
    {
     "name": "stdout",
     "output_type": "stream",
     "text": [
      "eat---->eat\n",
      "eating---->eat\n",
      "eaten---->eaten\n",
      "write---->write\n",
      "written---->written\n",
      "writing---->write\n",
      "programming---->program\n",
      "programs---->program\n",
      "history---->histori\n",
      "finalize---->final\n",
      "finally---->final\n"
     ]
    }
   ],
   "source": [
    "for word in words:\n",
    "    print(word+'---->'+ snowballstemmer.stem(word))"
   ]
  },
  {
   "cell_type": "code",
   "execution_count": null,
   "id": "a006112a",
   "metadata": {},
   "outputs": [],
   "source": []
  }
 ],
 "metadata": {
  "kernelspec": {
   "display_name": "Python 3 (ipykernel)",
   "language": "python",
   "name": "python3"
  },
  "language_info": {
   "codemirror_mode": {
    "name": "ipython",
    "version": 3
   },
   "file_extension": ".py",
   "mimetype": "text/x-python",
   "name": "python",
   "nbconvert_exporter": "python",
   "pygments_lexer": "ipython3",
   "version": "3.9.18"
  }
 },
 "nbformat": 4,
 "nbformat_minor": 5
}
