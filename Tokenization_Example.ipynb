{
 "cells": [
  {
   "cell_type": "code",
   "execution_count": 4,
   "id": "e70e8f23",
   "metadata": {},
   "outputs": [],
   "source": [
    "corpus = \"\"\"Hello, my name is Anefu Oche. I hope to be an authority in the field of artificial intelligence! Therefore,\n",
    "I try to study and code evey single day to achieve my dream.I am an achiever's son.\n",
    "\"\"\""
   ]
  },
  {
   "cell_type": "code",
   "execution_count": 5,
   "id": "3f655570",
   "metadata": {},
   "outputs": [
    {
     "data": {
      "text/plain": [
       "'Hello, my name is Anefu Oche. I hope to be an authority in the field of artificial intelligence! Therefore,\\nI try to study and code evey single day to achieve my dream.\\n'"
      ]
     },
     "execution_count": 5,
     "metadata": {},
     "output_type": "execute_result"
    }
   ],
   "source": [
    "corpus"
   ]
  },
  {
   "cell_type": "code",
   "execution_count": 6,
   "id": "3e220a55",
   "metadata": {},
   "outputs": [
    {
     "name": "stdout",
     "output_type": "stream",
     "text": [
      "Hello, my name is Anefu Oche. I hope to be an authority in the field of artificial intelligence! Therefore,\n",
      "I try to study and code evey single day to achieve my dream.\n",
      "\n"
     ]
    }
   ],
   "source": [
    "print(corpus)"
   ]
  },
  {
   "cell_type": "markdown",
   "id": "8c7f1e99",
   "metadata": {},
   "source": [
    "#### tokenization\n",
    "* convert paragraphs into sentences"
   ]
  },
  {
   "cell_type": "code",
   "execution_count": 14,
   "id": "b9320c5e",
   "metadata": {},
   "outputs": [],
   "source": [
    "import nltk\n",
    "\n",
    "#nltk.download('punkt')\n",
    "#nltk.download('wordnet')\n",
    "#nltk.download('omw-1.4')"
   ]
  },
  {
   "cell_type": "code",
   "execution_count": 15,
   "id": "78c5465e",
   "metadata": {},
   "outputs": [],
   "source": [
    "from nltk.tokenize import sent_tokenize"
   ]
  },
  {
   "cell_type": "code",
   "execution_count": 16,
   "id": "9bdc55f5",
   "metadata": {},
   "outputs": [],
   "source": [
    "#sent_tokenize(corpus)"
   ]
  },
  {
   "cell_type": "code",
   "execution_count": 17,
   "id": "6e4a25c2",
   "metadata": {},
   "outputs": [],
   "source": [
    "document = sent_tokenize(corpus)"
   ]
  },
  {
   "cell_type": "code",
   "execution_count": 18,
   "id": "73ad12f8",
   "metadata": {},
   "outputs": [
    {
     "name": "stdout",
     "output_type": "stream",
     "text": [
      "Hello, my name is Anefu Oche.\n",
      "I hope to be an authority in the field of artificial intelligence!\n",
      "Therefore,\n",
      "I try to study and code evey single day to achieve my dream.\n"
     ]
    }
   ],
   "source": [
    "for sentence in document:\n",
    "    print(sentence)"
   ]
  },
  {
   "cell_type": "code",
   "execution_count": 19,
   "id": "eb1084db",
   "metadata": {},
   "outputs": [],
   "source": [
    "from nltk.tokenize import word_tokenize"
   ]
  },
  {
   "cell_type": "code",
   "execution_count": 20,
   "id": "ec078318",
   "metadata": {},
   "outputs": [
    {
     "data": {
      "text/plain": [
       "['Hello',\n",
       " ',',\n",
       " 'my',\n",
       " 'name',\n",
       " 'is',\n",
       " 'Anefu',\n",
       " 'Oche',\n",
       " '.',\n",
       " 'I',\n",
       " 'hope',\n",
       " 'to',\n",
       " 'be',\n",
       " 'an',\n",
       " 'authority',\n",
       " 'in',\n",
       " 'the',\n",
       " 'field',\n",
       " 'of',\n",
       " 'artificial',\n",
       " 'intelligence',\n",
       " '!',\n",
       " 'Therefore',\n",
       " ',',\n",
       " 'I',\n",
       " 'try',\n",
       " 'to',\n",
       " 'study',\n",
       " 'and',\n",
       " 'code',\n",
       " 'evey',\n",
       " 'single',\n",
       " 'day',\n",
       " 'to',\n",
       " 'achieve',\n",
       " 'my',\n",
       " 'dream',\n",
       " '.']"
      ]
     },
     "execution_count": 20,
     "metadata": {},
     "output_type": "execute_result"
    }
   ],
   "source": [
    "word_tokenize(corpus)"
   ]
  },
  {
   "cell_type": "code",
   "execution_count": 21,
   "id": "16444518",
   "metadata": {},
   "outputs": [
    {
     "name": "stdout",
     "output_type": "stream",
     "text": [
      "['Hello', ',', 'my', 'name', 'is', 'Anefu', 'Oche', '.', 'I', 'hope', 'to', 'be', 'an', 'authority', 'in', 'the', 'field', 'of', 'artificial', 'intelligence', '!', 'Therefore', ',', 'I', 'try', 'to', 'study', 'and', 'code', 'evey', 'single', 'day', 'to', 'achieve', 'my', 'dream', '.']\n",
      "['Hello', ',', 'my', 'name', 'is', 'Anefu', 'Oche', '.', 'I', 'hope', 'to', 'be', 'an', 'authority', 'in', 'the', 'field', 'of', 'artificial', 'intelligence', '!', 'Therefore', ',', 'I', 'try', 'to', 'study', 'and', 'code', 'evey', 'single', 'day', 'to', 'achieve', 'my', 'dream', '.']\n",
      "['Hello', ',', 'my', 'name', 'is', 'Anefu', 'Oche', '.', 'I', 'hope', 'to', 'be', 'an', 'authority', 'in', 'the', 'field', 'of', 'artificial', 'intelligence', '!', 'Therefore', ',', 'I', 'try', 'to', 'study', 'and', 'code', 'evey', 'single', 'day', 'to', 'achieve', 'my', 'dream', '.']\n"
     ]
    }
   ],
   "source": [
    "for word in document:\n",
    "    print(word_tokenize(corpus))"
   ]
  },
  {
   "cell_type": "code",
   "execution_count": 22,
   "id": "3791078a",
   "metadata": {},
   "outputs": [],
   "source": [
    "from nltk.tokenize import wordpunct_tokenize"
   ]
  },
  {
   "cell_type": "code",
   "execution_count": 23,
   "id": "46a4dfc6",
   "metadata": {},
   "outputs": [
    {
     "data": {
      "text/plain": [
       "['Hello',\n",
       " ',',\n",
       " 'my',\n",
       " 'name',\n",
       " 'is',\n",
       " 'Anefu',\n",
       " 'Oche',\n",
       " '.',\n",
       " 'I',\n",
       " 'hope',\n",
       " 'to',\n",
       " 'be',\n",
       " 'an',\n",
       " 'authority',\n",
       " 'in',\n",
       " 'the',\n",
       " 'field',\n",
       " 'of',\n",
       " 'artificial',\n",
       " 'intelligence',\n",
       " '!',\n",
       " 'Therefore',\n",
       " ',',\n",
       " 'I',\n",
       " 'try',\n",
       " 'to',\n",
       " 'study',\n",
       " 'and',\n",
       " 'code',\n",
       " 'evey',\n",
       " 'single',\n",
       " 'day',\n",
       " 'to',\n",
       " 'achieve',\n",
       " 'my',\n",
       " 'dream',\n",
       " '.']"
      ]
     },
     "execution_count": 23,
     "metadata": {},
     "output_type": "execute_result"
    }
   ],
   "source": [
    "wordpunct_tokenize(corpus)"
   ]
  },
  {
   "cell_type": "code",
   "execution_count": 25,
   "id": "b627746c",
   "metadata": {},
   "outputs": [],
   "source": [
    "from nltk.tokenize import TreebankWordTokenizer"
   ]
  },
  {
   "cell_type": "code",
   "execution_count": 27,
   "id": "09d9a3c6",
   "metadata": {},
   "outputs": [
    {
     "data": {
      "text/plain": [
       "['Hello',\n",
       " ',',\n",
       " 'my',\n",
       " 'name',\n",
       " 'is',\n",
       " 'Anefu',\n",
       " 'Oche.',\n",
       " 'I',\n",
       " 'hope',\n",
       " 'to',\n",
       " 'be',\n",
       " 'an',\n",
       " 'authority',\n",
       " 'in',\n",
       " 'the',\n",
       " 'field',\n",
       " 'of',\n",
       " 'artificial',\n",
       " 'intelligence',\n",
       " '!',\n",
       " 'Therefore',\n",
       " ',',\n",
       " 'I',\n",
       " 'try',\n",
       " 'to',\n",
       " 'study',\n",
       " 'and',\n",
       " 'code',\n",
       " 'evey',\n",
       " 'single',\n",
       " 'day',\n",
       " 'to',\n",
       " 'achieve',\n",
       " 'my',\n",
       " 'dream',\n",
       " '.']"
      ]
     },
     "execution_count": 27,
     "metadata": {},
     "output_type": "execute_result"
    }
   ],
   "source": [
    "#only the last full stop is considered a seperate word\n",
    "\n",
    "tokenize = TreebankWordTokenizer()\n",
    "tokenize.tokenize(corpus)"
   ]
  },
  {
   "cell_type": "code",
   "execution_count": null,
   "id": "2bfcb2ea",
   "metadata": {},
   "outputs": [],
   "source": []
  }
 ],
 "metadata": {
  "kernelspec": {
   "display_name": "Python 3 (ipykernel)",
   "language": "python",
   "name": "python3"
  },
  "language_info": {
   "codemirror_mode": {
    "name": "ipython",
    "version": 3
   },
   "file_extension": ".py",
   "mimetype": "text/x-python",
   "name": "python",
   "nbconvert_exporter": "python",
   "pygments_lexer": "ipython3",
   "version": "3.9.18"
  }
 },
 "nbformat": 4,
 "nbformat_minor": 5
}
