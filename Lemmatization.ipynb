{
 "cells": [
  {
   "cell_type": "markdown",
   "id": "b03ae536",
   "metadata": {},
   "source": [
    "## LEMMATIZATION\n",
    "\n",
    "Lemmatization is like stemming. The output of lemmatization is the root word which is known as lemma or word root rather than word stem for stemming. After lemmatization, we get a valid word that means the same thing.\n",
    "\n",
    "* Q & A\n",
    "* chatbot\n",
    "* Text summarisation"
   ]
  },
  {
   "cell_type": "markdown",
   "id": "29f20aae",
   "metadata": {},
   "source": [
    "### WordNetLemmatizer"
   ]
  },
  {
   "cell_type": "code",
   "execution_count": 1,
   "id": "5d885ca3",
   "metadata": {},
   "outputs": [],
   "source": [
    "import nltk\n",
    "\n",
    "from nltk.stem import WordNetLemmatizer"
   ]
  },
  {
   "cell_type": "code",
   "execution_count": 2,
   "id": "99b0fb71",
   "metadata": {},
   "outputs": [],
   "source": [
    "lemmatizer = WordNetLemmatizer()"
   ]
  },
  {
   "cell_type": "code",
   "execution_count": 9,
   "id": "207134dd",
   "metadata": {},
   "outputs": [
    {
     "data": {
      "text/plain": [
       "'go'"
      ]
     },
     "execution_count": 9,
     "metadata": {},
     "output_type": "execute_result"
    }
   ],
   "source": [
    "lemmatizer.lemmatize('going','v') #POS noun n. verb v, adjective a, adverb r"
   ]
  },
  {
   "cell_type": "code",
   "execution_count": 8,
   "id": "60a93713",
   "metadata": {},
   "outputs": [
    {
     "data": {
      "text/plain": [
       "('fairly', 'sportingly')"
      ]
     },
     "execution_count": 8,
     "metadata": {},
     "output_type": "execute_result"
    }
   ],
   "source": [
    "lemmatizer.lemmatize('fairly','r'), lemmatizer.lemmatize('sportingly','r')"
   ]
  },
  {
   "cell_type": "code",
   "execution_count": null,
   "id": "3c02524a",
   "metadata": {},
   "outputs": [],
   "source": []
  }
 ],
 "metadata": {
  "kernelspec": {
   "display_name": "Python 3 (ipykernel)",
   "language": "python",
   "name": "python3"
  },
  "language_info": {
   "codemirror_mode": {
    "name": "ipython",
    "version": 3
   },
   "file_extension": ".py",
   "mimetype": "text/x-python",
   "name": "python",
   "nbconvert_exporter": "python",
   "pygments_lexer": "ipython3",
   "version": "3.9.18"
  }
 },
 "nbformat": 4,
 "nbformat_minor": 5
}
